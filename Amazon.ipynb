{
 "cells": [
  {
   "cell_type": "code",
   "execution_count": 11,
   "id": "8d24d1d1-cec0-463f-9411-3093cc28eb62",
   "metadata": {},
   "outputs": [],
   "source": [
    "import pandas as pd"
   ]
  },
  {
   "cell_type": "code",
   "execution_count": 13,
   "id": "08b427bb-a45c-49d2-a3bd-393ce5fa92d6",
   "metadata": {},
   "outputs": [],
   "source": [
    "pd.set_option('display.max_rows', None)\n",
    "pd.set_option('display.max_columns', None)\n",
    "pd.set_option('display.width', None)"
   ]
  },
  {
   "cell_type": "code",
   "execution_count": 15,
   "id": "8dca3f89-000d-4be7-afda-4a4715c887a8",
   "metadata": {},
   "outputs": [],
   "source": [
    "df = pd.read_csv(r\"C:\\Users\\Lipika\\Downloads\\Amazon Sales data (1).csv\")"
   ]
  },
  {
   "cell_type": "code",
   "execution_count": 17,
   "id": "10ac8ce8-98bd-47be-b4b8-cc2c8a18776a",
   "metadata": {},
   "outputs": [
    {
     "data": {
      "text/html": [
       "<div>\n",
       "<style scoped>\n",
       "    .dataframe tbody tr th:only-of-type {\n",
       "        vertical-align: middle;\n",
       "    }\n",
       "\n",
       "    .dataframe tbody tr th {\n",
       "        vertical-align: top;\n",
       "    }\n",
       "\n",
       "    .dataframe thead th {\n",
       "        text-align: right;\n",
       "    }\n",
       "</style>\n",
       "<table border=\"1\" class=\"dataframe\">\n",
       "  <thead>\n",
       "    <tr style=\"text-align: right;\">\n",
       "      <th></th>\n",
       "      <th>Region</th>\n",
       "      <th>Country</th>\n",
       "      <th>Item Type</th>\n",
       "      <th>Sales Channel</th>\n",
       "      <th>Order Priority</th>\n",
       "      <th>Order Date</th>\n",
       "      <th>Order ID</th>\n",
       "      <th>Ship Date</th>\n",
       "      <th>Units Sold</th>\n",
       "      <th>Unit Price</th>\n",
       "      <th>Unit Cost</th>\n",
       "      <th>Total Revenue</th>\n",
       "      <th>Total Cost</th>\n",
       "      <th>Total Profit</th>\n",
       "    </tr>\n",
       "  </thead>\n",
       "  <tbody>\n",
       "    <tr>\n",
       "      <th>0</th>\n",
       "      <td>Australia and Oceania</td>\n",
       "      <td>Tuvalu</td>\n",
       "      <td>Baby Food</td>\n",
       "      <td>Offline</td>\n",
       "      <td>H</td>\n",
       "      <td>5/28/2010</td>\n",
       "      <td>669165933</td>\n",
       "      <td>6/27/2010</td>\n",
       "      <td>9925</td>\n",
       "      <td>255.28</td>\n",
       "      <td>159.42</td>\n",
       "      <td>2533654.00</td>\n",
       "      <td>1582243.50</td>\n",
       "      <td>951410.50</td>\n",
       "    </tr>\n",
       "    <tr>\n",
       "      <th>1</th>\n",
       "      <td>Central America and the Caribbean</td>\n",
       "      <td>Grenada</td>\n",
       "      <td>Cereal</td>\n",
       "      <td>Online</td>\n",
       "      <td>C</td>\n",
       "      <td>8/22/2012</td>\n",
       "      <td>963881480</td>\n",
       "      <td>9/15/2012</td>\n",
       "      <td>2804</td>\n",
       "      <td>205.70</td>\n",
       "      <td>117.11</td>\n",
       "      <td>576782.80</td>\n",
       "      <td>328376.44</td>\n",
       "      <td>248406.36</td>\n",
       "    </tr>\n",
       "    <tr>\n",
       "      <th>2</th>\n",
       "      <td>Europe</td>\n",
       "      <td>Russia</td>\n",
       "      <td>Office Supplies</td>\n",
       "      <td>Offline</td>\n",
       "      <td>L</td>\n",
       "      <td>02/05/2014</td>\n",
       "      <td>341417157</td>\n",
       "      <td>05-08-2014</td>\n",
       "      <td>1779</td>\n",
       "      <td>651.21</td>\n",
       "      <td>524.96</td>\n",
       "      <td>1158502.59</td>\n",
       "      <td>933903.84</td>\n",
       "      <td>224598.75</td>\n",
       "    </tr>\n",
       "    <tr>\n",
       "      <th>3</th>\n",
       "      <td>Sub-Saharan Africa</td>\n",
       "      <td>Sao Tome and Principe</td>\n",
       "      <td>Fruits</td>\n",
       "      <td>Online</td>\n",
       "      <td>C</td>\n",
       "      <td>6/20/2014</td>\n",
       "      <td>514321792</td>\n",
       "      <td>07-05-2014</td>\n",
       "      <td>8102</td>\n",
       "      <td>9.33</td>\n",
       "      <td>6.92</td>\n",
       "      <td>75591.66</td>\n",
       "      <td>56065.84</td>\n",
       "      <td>19525.82</td>\n",
       "    </tr>\n",
       "    <tr>\n",
       "      <th>4</th>\n",
       "      <td>Sub-Saharan Africa</td>\n",
       "      <td>Rwanda</td>\n",
       "      <td>Office Supplies</td>\n",
       "      <td>Offline</td>\n",
       "      <td>L</td>\n",
       "      <td>01/02/2013</td>\n",
       "      <td>115456712</td>\n",
       "      <td>02-06-2013</td>\n",
       "      <td>5062</td>\n",
       "      <td>651.21</td>\n",
       "      <td>524.96</td>\n",
       "      <td>3296425.02</td>\n",
       "      <td>2657347.52</td>\n",
       "      <td>639077.50</td>\n",
       "    </tr>\n",
       "  </tbody>\n",
       "</table>\n",
       "</div>"
      ],
      "text/plain": [
       "                              Region                Country        Item Type  \\\n",
       "0              Australia and Oceania                 Tuvalu        Baby Food   \n",
       "1  Central America and the Caribbean                Grenada           Cereal   \n",
       "2                             Europe                 Russia  Office Supplies   \n",
       "3                 Sub-Saharan Africa  Sao Tome and Principe           Fruits   \n",
       "4                 Sub-Saharan Africa                 Rwanda  Office Supplies   \n",
       "\n",
       "  Sales Channel Order Priority  Order Date   Order ID   Ship Date  Units Sold  \\\n",
       "0       Offline              H   5/28/2010  669165933   6/27/2010        9925   \n",
       "1        Online              C   8/22/2012  963881480   9/15/2012        2804   \n",
       "2       Offline              L  02/05/2014  341417157  05-08-2014        1779   \n",
       "3        Online              C   6/20/2014  514321792  07-05-2014        8102   \n",
       "4       Offline              L  01/02/2013  115456712  02-06-2013        5062   \n",
       "\n",
       "   Unit Price  Unit Cost  Total Revenue  Total Cost  Total Profit  \n",
       "0      255.28     159.42     2533654.00  1582243.50     951410.50  \n",
       "1      205.70     117.11      576782.80   328376.44     248406.36  \n",
       "2      651.21     524.96     1158502.59   933903.84     224598.75  \n",
       "3        9.33       6.92       75591.66    56065.84      19525.82  \n",
       "4      651.21     524.96     3296425.02  2657347.52     639077.50  "
      ]
     },
     "execution_count": 17,
     "metadata": {},
     "output_type": "execute_result"
    }
   ],
   "source": [
    "df.head()"
   ]
  },
  {
   "cell_type": "code",
   "execution_count": 19,
   "id": "a209de0c-b751-4840-8225-a69eb6cf87d3",
   "metadata": {},
   "outputs": [
    {
     "data": {
      "text/plain": [
       "Region            0\n",
       "Country           0\n",
       "Item Type         0\n",
       "Sales Channel     0\n",
       "Order Priority    0\n",
       "Order Date        0\n",
       "Order ID          0\n",
       "Ship Date         0\n",
       "Units Sold        0\n",
       "Unit Price        0\n",
       "Unit Cost         0\n",
       "Total Revenue     0\n",
       "Total Cost        0\n",
       "Total Profit      0\n",
       "dtype: int64"
      ]
     },
     "execution_count": 19,
     "metadata": {},
     "output_type": "execute_result"
    }
   ],
   "source": [
    "df.isnull().sum()"
   ]
  },
  {
   "cell_type": "code",
   "execution_count": 21,
   "id": "96c2eb7a-54d3-407f-b7c0-672b43664937",
   "metadata": {},
   "outputs": [
    {
     "data": {
      "text/plain": [
       "Index(['Region', 'Country', 'Item Type', 'Sales Channel', 'Order Priority',\n",
       "       'Order Date', 'Order ID', 'Ship Date', 'Units Sold', 'Unit Price',\n",
       "       'Unit Cost', 'Total Revenue', 'Total Cost', 'Total Profit'],\n",
       "      dtype='object')"
      ]
     },
     "execution_count": 21,
     "metadata": {},
     "output_type": "execute_result"
    }
   ],
   "source": [
    "df.columns"
   ]
  },
  {
   "cell_type": "code",
   "execution_count": 23,
   "id": "045e5ab1-d2d7-46e5-881e-110ffd013393",
   "metadata": {},
   "outputs": [
    {
     "data": {
      "text/plain": [
       "str"
      ]
     },
     "execution_count": 23,
     "metadata": {},
     "output_type": "execute_result"
    }
   ],
   "source": [
    "type(df['Order Date'][6])"
   ]
  },
  {
   "cell_type": "code",
   "execution_count": 25,
   "id": "3fba301c-7ec4-437b-9da9-e4eef788e831",
   "metadata": {},
   "outputs": [
    {
     "data": {
      "text/plain": [
       "datetime.datetime(2011, 4, 23, 0, 0)"
      ]
     },
     "execution_count": 25,
     "metadata": {},
     "output_type": "execute_result"
    }
   ],
   "source": [
    "type(df['Order Date'][6])\n",
    "import datetime\n",
    "format = '%m/%d/%Y'\n",
    "datetime_str = datetime.datetime.strptime(df['Order Date'][6], format)\n",
    "datetime_str"
   ]
  },
  {
   "cell_type": "code",
   "execution_count": 27,
   "id": "a7cce1b4-98a8-4d4d-bd44-bc2f69536671",
   "metadata": {},
   "outputs": [],
   "source": [
    "df['Order Date Time']= df['Order Date'].apply(lambda x:datetime.datetime.strptime(x, format))"
   ]
  },
  {
   "cell_type": "code",
   "execution_count": 29,
   "id": "95a91852-6557-4381-9d9f-7af0a99500ca",
   "metadata": {},
   "outputs": [
    {
     "data": {
      "text/plain": [
       "0   2010-05-28\n",
       "1   2012-08-22\n",
       "2   2014-02-05\n",
       "3   2014-06-20\n",
       "4   2013-01-02\n",
       "Name: Order Date Time, dtype: datetime64[ns]"
      ]
     },
     "execution_count": 29,
     "metadata": {},
     "output_type": "execute_result"
    }
   ],
   "source": [
    "df['Order Date Time'].head()"
   ]
  },
  {
   "cell_type": "code",
   "execution_count": 31,
   "id": "8ed7c4ca-ec0c-4843-a8de-b2358cd44d57",
   "metadata": {},
   "outputs": [
    {
     "data": {
      "text/plain": [
       "'August'"
      ]
     },
     "execution_count": 31,
     "metadata": {},
     "output_type": "execute_result"
    }
   ],
   "source": [
    "df['Order Date Time'][1].strftime('%B')"
   ]
  },
  {
   "cell_type": "code",
   "execution_count": 33,
   "id": "7f277f02-ddf6-453b-b658-9aa5c041b619",
   "metadata": {},
   "outputs": [],
   "source": [
    "df['Month']= df['Order Date Time'].apply(lambda x:x.strftime('%B'))"
   ]
  },
  {
   "cell_type": "code",
   "execution_count": 35,
   "id": "599b5111-e239-487d-8b96-78c41b689b77",
   "metadata": {},
   "outputs": [
    {
     "data": {
      "text/plain": [
       "0         May\n",
       "1      August\n",
       "2    February\n",
       "3        June\n",
       "4     January\n",
       "Name: Month, dtype: object"
      ]
     },
     "execution_count": 35,
     "metadata": {},
     "output_type": "execute_result"
    }
   ],
   "source": [
    "df['Month'].head()"
   ]
  },
  {
   "cell_type": "code",
   "execution_count": 37,
   "id": "9a9f73b9-9946-490b-8227-8d355a6aafbe",
   "metadata": {},
   "outputs": [
    {
     "data": {
      "text/plain": [
       "Month\n",
       "July         15\n",
       "June         10\n",
       "November     10\n",
       "October      10\n",
       "May           9\n",
       "August        9\n",
       "February      8\n",
       "January       8\n",
       "April         8\n",
       "September     5\n",
       "December      4\n",
       "March         4\n",
       "Name: count, dtype: int64"
      ]
     },
     "execution_count": 37,
     "metadata": {},
     "output_type": "execute_result"
    }
   ],
   "source": [
    "df['Month'].value_counts()"
   ]
  },
  {
   "cell_type": "code",
   "execution_count": 39,
   "id": "48b6b42b-a70c-4824-8a08-413d800569d1",
   "metadata": {},
   "outputs": [
    {
     "name": "stdout",
     "output_type": "stream",
     "text": [
      "Month\n",
      "April        32386\n",
      "August       50947\n",
      "December     15095\n",
      "February     33700\n",
      "January      48794\n",
      "July         83395\n",
      "June         42434\n",
      "March        17041\n",
      "May          54745\n",
      "November     49547\n",
      "October      56191\n",
      "September    28596\n",
      "Name: Units Sold, dtype: int64\n"
     ]
    }
   ],
   "source": [
    "month_wise = df.groupby('Month')['Units Sold'].sum()\n",
    "print(month_wise)"
   ]
  },
  {
   "cell_type": "code",
   "execution_count": 41,
   "id": "ecedade4-6a93-494f-ba51-613682344499",
   "metadata": {},
   "outputs": [
    {
     "name": "stdout",
     "output_type": "stream",
     "text": [
      "Month\n",
      "July         83395\n",
      "October      56191\n",
      "May          54745\n",
      "August       50947\n",
      "November     49547\n",
      "January      48794\n",
      "June         42434\n",
      "February     33700\n",
      "April        32386\n",
      "September    28596\n",
      "March        17041\n",
      "December     15095\n",
      "Name: Units Sold, dtype: int64\n"
     ]
    }
   ],
   "source": [
    "sorted_month_wise = month_wise.sort_values(ascending=False)\n",
    "print(sorted_month_wise)"
   ]
  },
  {
   "cell_type": "code",
   "execution_count": 47,
   "id": "22b62268-549a-4c81-89c4-c3937982ffcf",
   "metadata": {},
   "outputs": [
    {
     "data": {
      "text/plain": [
       "'2012'"
      ]
     },
     "execution_count": 47,
     "metadata": {},
     "output_type": "execute_result"
    }
   ],
   "source": [
    "df['Order Date Time'][1].strftime('%Y')"
   ]
  },
  {
   "cell_type": "code",
   "execution_count": 49,
   "id": "3df72496-c33e-4c1c-aec1-da34ab7fe4ce",
   "metadata": {},
   "outputs": [],
   "source": [
    "df['Year'] = df['Order Date Time'].apply(lambda x:x.strftime('%Y'))"
   ]
  },
  {
   "cell_type": "code",
   "execution_count": 51,
   "id": "191398c4-c96b-44fc-907a-3c6c5498163b",
   "metadata": {},
   "outputs": [
    {
     "data": {
      "text/plain": [
       "Year\n",
       "2012    22\n",
       "2014    15\n",
       "2013    12\n",
       "2011    12\n",
       "2015    11\n",
       "2010    10\n",
       "2016    10\n",
       "2017     8\n",
       "Name: count, dtype: int64"
      ]
     },
     "execution_count": 51,
     "metadata": {},
     "output_type": "execute_result"
    }
   ],
   "source": [
    "df['Year'].value_counts()"
   ]
  },
  {
   "cell_type": "code",
   "execution_count": 61,
   "id": "c4709ab9-e7e2-4c66-ac36-62a818b59ba8",
   "metadata": {},
   "outputs": [
    {
     "name": "stdout",
     "output_type": "stream",
     "text": [
      "Year\n",
      "2010    61571\n",
      "2011    54768\n",
      "2012    97967\n",
      "2013    64663\n",
      "2014    92040\n",
      "2015    49480\n",
      "2016    43156\n",
      "2017    49226\n",
      "Name: Units Sold, dtype: int64\n"
     ]
    }
   ],
   "source": [
    "Year_wise = df.groupby('Year')['Units Sold'].sum()\n",
    "print ( Year_wise)"
   ]
  },
  {
   "cell_type": "code",
   "execution_count": 63,
   "id": "157949d4-47d8-455d-90ab-152608452e34",
   "metadata": {},
   "outputs": [
    {
     "name": "stdout",
     "output_type": "stream",
     "text": [
      "Year\n",
      "2012    97967\n",
      "2014    92040\n",
      "2013    64663\n",
      "2010    61571\n",
      "2011    54768\n",
      "2015    49480\n",
      "2017    49226\n",
      "2016    43156\n",
      "Name: Units Sold, dtype: int64\n"
     ]
    }
   ],
   "source": [
    "sorted_Year_wise = Year_wise.sort_values(ascending=False)\n",
    "print(sorted_Year_wise)"
   ]
  },
  {
   "cell_type": "code",
   "execution_count": 65,
   "id": "f8dec800-85b5-4d5a-afcc-94beba41f789",
   "metadata": {},
   "outputs": [
    {
     "data": {
      "text/plain": [
       "'2012,August'"
      ]
     },
     "execution_count": 65,
     "metadata": {},
     "output_type": "execute_result"
    }
   ],
   "source": [
    "df['Order Date Time'][1].strftime('%Y,%B')"
   ]
  },
  {
   "cell_type": "code",
   "execution_count": 67,
   "id": "f9daf90f-a0a6-408f-a99a-7f95064bd694",
   "metadata": {},
   "outputs": [],
   "source": [
    "df['Year_month']= df['Order Date Time'].apply(lambda x:x.strftime('%Y,%B'))"
   ]
  },
  {
   "cell_type": "code",
   "execution_count": 69,
   "id": "0a682ae7-fb36-4544-b893-fc26c7baca19",
   "metadata": {},
   "outputs": [
    {
     "data": {
      "text/plain": [
       "Year_month\n",
       "2014,October      3\n",
       "2012,July         3\n",
       "2014,July         3\n",
       "2012,May          3\n",
       "2011,November     3\n",
       "2012,August       3\n",
       "2015,July         3\n",
       "2014,February     3\n",
       "2010,June         2\n",
       "2016,June         2\n",
       "2012,June         2\n",
       "2010,October      2\n",
       "2012,October      2\n",
       "2012,September    2\n",
       "2011,July         2\n",
       "2017,May          2\n",
       "2016,July         2\n",
       "2012,February     2\n",
       "2013,September    2\n",
       "2011,April        2\n",
       "2010,December     2\n",
       "2015,January      2\n",
       "2014,June         2\n",
       "2016,November     2\n",
       "2012,April        2\n",
       "2017,August       2\n",
       "2017,January      2\n",
       "2015,April        2\n",
       "2013,June         1\n",
       "2011,August       1\n",
       "2013,October      1\n",
       "2013,November     1\n",
       "2013,April        1\n",
       "2015,August       1\n",
       "2014,March        1\n",
       "2011,May          1\n",
       "2010,November     1\n",
       "2011,January      1\n",
       "2016,October      1\n",
       "2011,September    1\n",
       "2013,July         1\n",
       "2012,March        1\n",
       "2015,February     1\n",
       "2013,May          1\n",
       "2010,May          1\n",
       "2013,March        1\n",
       "2015,October      1\n",
       "2013,January      1\n",
       "2014,April        1\n",
       "2011,June         1\n",
       "2014,May          1\n",
       "2014,August       1\n",
       "2010,July         1\n",
       "2013,December     1\n",
       "2017,February     1\n",
       "2013,August       1\n",
       "2012,January      1\n",
       "2017,November     1\n",
       "2015,November     1\n",
       "2016,March        1\n",
       "2016,December     1\n",
       "2012,November     1\n",
       "2010,February     1\n",
       "2016,January      1\n",
       "Name: count, dtype: int64"
      ]
     },
     "execution_count": 69,
     "metadata": {},
     "output_type": "execute_result"
    }
   ],
   "source": [
    "df['Year_month'].value_counts()"
   ]
  },
  {
   "cell_type": "code",
   "execution_count": 71,
   "id": "15b6d1e5-44ae-4692-ba2a-49f123231825",
   "metadata": {},
   "outputs": [
    {
     "name": "stdout",
     "output_type": "stream",
     "text": [
      "Year_month\n",
      "2010,December      4103\n",
      "2010,February      2269\n",
      "2010,July          5822\n",
      "2010,June         17139\n",
      "2010,May           9925\n",
      "2010,November      7910\n",
      "2010,October      14403\n",
      "2011,April         8272\n",
      "2011,August        8156\n",
      "2011,January       8829\n",
      "2011,July          6406\n",
      "2011,June           124\n",
      "2011,May           5741\n",
      "2011,November     13508\n",
      "2011,September     3732\n",
      "2012,April         2195\n",
      "2012,August       14942\n",
      "2012,February     10409\n",
      "2012,January       6708\n",
      "2012,July         16107\n",
      "2012,June          2192\n",
      "2012,March         6457\n",
      "2012,May          11266\n",
      "2012,November      1266\n",
      "2012,October       9880\n",
      "2012,September    16545\n",
      "2013,April         5010\n",
      "2013,August        9606\n",
      "2013,December      2125\n",
      "2013,January       5062\n",
      "2013,July          9654\n",
      "2013,June          4750\n",
      "2013,March         4063\n",
      "2013,May           9892\n",
      "2013,November      4477\n",
      "2013,October       1705\n",
      "2013,September     8319\n",
      "2014,April         6593\n",
      "2014,August        2187\n",
      "2014,February     10848\n",
      "2014,July         21728\n",
      "2014,June         15056\n",
      "2014,March         5559\n",
      "2014,May           7450\n",
      "2014,October      22619\n",
      "2015,April        10316\n",
      "2015,August         673\n",
      "2015,February      2847\n",
      "2015,January      13680\n",
      "2015,July         13110\n",
      "2015,November      5930\n",
      "2015,October       2924\n",
      "2016,December      8867\n",
      "2016,January       1485\n",
      "2016,July         10568\n",
      "2016,June          3173\n",
      "2016,March          962\n",
      "2016,November     13441\n",
      "2016,October       4660\n",
      "2017,August       15383\n",
      "2017,February      7327\n",
      "2017,January      13030\n",
      "2017,May          10471\n",
      "2017,November      3015\n",
      "Name: Units Sold, dtype: int64\n"
     ]
    }
   ],
   "source": [
    "Yearmonth_wise = df.groupby('Year_month')['Units Sold'].sum()\n",
    "print(Yearmonth_wise)"
   ]
  },
  {
   "cell_type": "code",
   "execution_count": 73,
   "id": "9f7fa01c-cb77-415e-b27a-ee954b5647a7",
   "metadata": {},
   "outputs": [
    {
     "name": "stdout",
     "output_type": "stream",
     "text": [
      "Year_month\n",
      "2014,October      22619\n",
      "2014,July         21728\n",
      "2010,June         17139\n",
      "2012,September    16545\n",
      "2012,July         16107\n",
      "2017,August       15383\n",
      "2014,June         15056\n",
      "2012,August       14942\n",
      "2010,October      14403\n",
      "2015,January      13680\n",
      "2011,November     13508\n",
      "2016,November     13441\n",
      "2015,July         13110\n",
      "2017,January      13030\n",
      "2012,May          11266\n",
      "2014,February     10848\n",
      "2016,July         10568\n",
      "2017,May          10471\n",
      "2012,February     10409\n",
      "2015,April        10316\n",
      "2010,May           9925\n",
      "2013,May           9892\n",
      "2012,October       9880\n",
      "2013,July          9654\n",
      "2013,August        9606\n",
      "2016,December      8867\n",
      "2011,January       8829\n",
      "2013,September     8319\n",
      "2011,April         8272\n",
      "2011,August        8156\n",
      "2010,November      7910\n",
      "2014,May           7450\n",
      "2017,February      7327\n",
      "2012,January       6708\n",
      "2014,April         6593\n",
      "2012,March         6457\n",
      "2011,July          6406\n",
      "2015,November      5930\n",
      "2010,July          5822\n",
      "2011,May           5741\n",
      "2014,March         5559\n",
      "2013,January       5062\n",
      "2013,April         5010\n",
      "2013,June          4750\n",
      "2016,October       4660\n",
      "2013,November      4477\n",
      "2010,December      4103\n",
      "2013,March         4063\n",
      "2011,September     3732\n",
      "2016,June          3173\n",
      "2017,November      3015\n",
      "2015,October       2924\n",
      "2015,February      2847\n",
      "2010,February      2269\n",
      "2012,April         2195\n",
      "2012,June          2192\n",
      "2014,August        2187\n",
      "2013,December      2125\n",
      "2013,October       1705\n",
      "2016,January       1485\n",
      "2012,November      1266\n",
      "2016,March          962\n",
      "2015,August         673\n",
      "2011,June           124\n",
      "Name: Units Sold, dtype: int64\n"
     ]
    }
   ],
   "source": [
    "sorted_Yearmonth_wise = Yearmonth_wise.sort_values(ascending=False)\n",
    "print(sorted_Yearmonth_wise)"
   ]
  },
  {
   "cell_type": "code",
   "execution_count": null,
   "id": "d170d0f3-90f8-4339-825f-5b77b44133e5",
   "metadata": {},
   "outputs": [],
   "source": []
  },
  {
   "cell_type": "code",
   "execution_count": null,
   "id": "3de03777-2b37-49d5-a4f9-5cd0525f3221",
   "metadata": {},
   "outputs": [],
   "source": []
  }
 ],
 "metadata": {
  "kernelspec": {
   "display_name": "Python 3 (ipykernel)",
   "language": "python",
   "name": "python3"
  },
  "language_info": {
   "codemirror_mode": {
    "name": "ipython",
    "version": 3
   },
   "file_extension": ".py",
   "mimetype": "text/x-python",
   "name": "python",
   "nbconvert_exporter": "python",
   "pygments_lexer": "ipython3",
   "version": "3.12.4"
  }
 },
 "nbformat": 4,
 "nbformat_minor": 5
}
